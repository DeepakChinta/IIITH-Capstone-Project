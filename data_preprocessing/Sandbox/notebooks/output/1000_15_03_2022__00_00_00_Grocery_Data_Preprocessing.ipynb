{
 "cells": [
  {
   "cell_type": "markdown",
   "id": "78376fa6",
   "metadata": {
    "tags": [
     "papermill-error-cell-tag"
    ]
   },
   "source": [
    "<span style=\"color:red; font-family:Helvetica Neue, Helvetica, Arial, sans-serif; font-size:2em;\">An Exception was encountered at '<a href=\"#papermill-error-cell\">In [12]</a>'.</span>"
   ]
  },
  {
   "cell_type": "markdown",
   "id": "e8883b77",
   "metadata": {
    "papermill": {
     "duration": 0.016422,
     "end_time": "2022-03-15T15:12:05.977734",
     "exception": false,
     "start_time": "2022-03-15T15:12:05.961312",
     "status": "completed"
    },
    "tags": []
   },
   "source": [
    "# Reading the data into python"
   ]
  },
  {
   "cell_type": "code",
   "execution_count": 1,
   "id": "06421ae8",
   "metadata": {
    "execution": {
     "iopub.execute_input": "2022-03-15T15:12:06.004022Z",
     "iopub.status.busy": "2022-03-15T15:12:06.004022Z",
     "iopub.status.idle": "2022-03-15T15:12:06.015849Z",
     "shell.execute_reply": "2022-03-15T15:12:06.014946Z"
    },
    "papermill": {
     "duration": 0.027224,
     "end_time": "2022-03-15T15:12:06.016846",
     "exception": false,
     "start_time": "2022-03-15T15:12:05.989622",
     "status": "completed"
    },
    "tags": []
   },
   "outputs": [],
   "source": [
    "# Supressing the warning messages\n",
    "import warnings\n",
    "warnings.filterwarnings('ignore')"
   ]
  },
  {
   "cell_type": "code",
   "execution_count": 2,
   "id": "1c53451b-7d12-4ec2-abb5-58e4f626a45b",
   "metadata": {
    "execution": {
     "iopub.execute_input": "2022-03-15T15:12:06.041679Z",
     "iopub.status.busy": "2022-03-15T15:12:06.041679Z",
     "iopub.status.idle": "2022-03-15T15:12:06.051332Z",
     "shell.execute_reply": "2022-03-15T15:12:06.051332Z"
    },
    "papermill": {
     "duration": 0.022566,
     "end_time": "2022-03-15T15:12:06.051332",
     "exception": false,
     "start_time": "2022-03-15T15:12:06.028766",
     "status": "completed"
    },
    "tags": [
     "parameters"
    ]
   },
   "outputs": [],
   "source": [
    "# parameters\n",
    "current_time=''\n",
    "batch_id=''\n",
    "source_data=''\n",
    "source_notebook=''\n",
    "preprocessed_data=''\n",
    "unprocessed_data=''"
   ]
  },
  {
   "cell_type": "code",
   "execution_count": 3,
   "id": "3e1bbfa0",
   "metadata": {
    "execution": {
     "iopub.execute_input": "2022-03-15T15:12:06.084622Z",
     "iopub.status.busy": "2022-03-15T15:12:06.084622Z",
     "iopub.status.idle": "2022-03-15T15:12:06.093254Z",
     "shell.execute_reply": "2022-03-15T15:12:06.092162Z"
    },
    "papermill": {
     "duration": 0.026642,
     "end_time": "2022-03-15T15:12:06.095246",
     "exception": false,
     "start_time": "2022-03-15T15:12:06.068604",
     "status": "completed"
    },
    "tags": [
     "injected-parameters"
    ]
   },
   "outputs": [],
   "source": [
    "# Parameters\n",
    "current_time = \"15_03_2022__00_00_00\"\n",
    "batch_id = \"1000\"\n",
    "source_data = \".//data//source//BigBasket.xlsx\"\n",
    "source_notebook = \".//notebooks//input//Grocery_Data_Preprocessing.ipynb\"\n",
    "preprocessed_data = \".//data//processed//1000_15_03_2022__00_00_00_BigBasket.csv\"\n",
    "unprocessed_data = \".//data//unprocessed//1000_15_03_2022__00_00_00_unprocessed_.//data//source//BigBasket.csv\"\n"
   ]
  },
  {
   "cell_type": "code",
   "execution_count": 4,
   "id": "70c3d753-691d-476b-9e78-6ca70dec2839",
   "metadata": {
    "execution": {
     "iopub.execute_input": "2022-03-15T15:12:06.123203Z",
     "iopub.status.busy": "2022-03-15T15:12:06.123203Z",
     "iopub.status.idle": "2022-03-15T15:12:06.138980Z",
     "shell.execute_reply": "2022-03-15T15:12:06.137911Z"
    },
    "papermill": {
     "duration": 0.030763,
     "end_time": "2022-03-15T15:12:06.140048",
     "exception": false,
     "start_time": "2022-03-15T15:12:06.109285",
     "status": "completed"
    },
    "tags": []
   },
   "outputs": [],
   "source": [
    "# update the batch status  to 1 (Running)"
   ]
  },
  {
   "cell_type": "code",
   "execution_count": 5,
   "id": "c90f469a",
   "metadata": {
    "execution": {
     "iopub.execute_input": "2022-03-15T15:12:06.169806Z",
     "iopub.status.busy": "2022-03-15T15:12:06.169806Z",
     "iopub.status.idle": "2022-03-15T15:12:09.430828Z",
     "shell.execute_reply": "2022-03-15T15:12:09.430828Z"
    },
    "papermill": {
     "duration": 3.277404,
     "end_time": "2022-03-15T15:12:09.430828",
     "exception": false,
     "start_time": "2022-03-15T15:12:06.153424",
     "status": "completed"
    },
    "tags": []
   },
   "outputs": [
    {
     "data": {
      "text/html": [
       "<div>\n",
       "<style scoped>\n",
       "    .dataframe tbody tr th:only-of-type {\n",
       "        vertical-align: middle;\n",
       "    }\n",
       "\n",
       "    .dataframe tbody tr th {\n",
       "        vertical-align: top;\n",
       "    }\n",
       "\n",
       "    .dataframe thead th {\n",
       "        text-align: right;\n",
       "    }\n",
       "</style>\n",
       "<table border=\"1\" class=\"dataframe\">\n",
       "  <thead>\n",
       "    <tr style=\"text-align: right;\">\n",
       "      <th></th>\n",
       "      <th>Unnamed: 0</th>\n",
       "      <th>Brand</th>\n",
       "      <th>Product</th>\n",
       "      <th>Quantity</th>\n",
       "      <th>Price</th>\n",
       "      <th>MRP</th>\n",
       "      <th>Category</th>\n",
       "      <th>Sub-Category</th>\n",
       "      <th>image_small</th>\n",
       "    </tr>\n",
       "  </thead>\n",
       "  <tbody>\n",
       "    <tr>\n",
       "      <th>0</th>\n",
       "      <td>0.0</td>\n",
       "      <td>iD Fresho</td>\n",
       "      <td>Idly Dosa Batter, 1 Kg + Malabar Parota, 350 g</td>\n",
       "      <td>Combo 2 Items</td>\n",
       "      <td>116.0</td>\n",
       "      <td>155.0</td>\n",
       "      <td>snacks branded foods</td>\n",
       "      <td>ready to cook eat</td>\n",
       "      <td>https://www.bigbasket.com/media/uploads/p/s/12...</td>\n",
       "    </tr>\n",
       "    <tr>\n",
       "      <th>1</th>\n",
       "      <td>1.0</td>\n",
       "      <td>iD Fresho</td>\n",
       "      <td>Malabar Parota/Paratha</td>\n",
       "      <td>350 g Pouch</td>\n",
       "      <td>42.0</td>\n",
       "      <td>80.0</td>\n",
       "      <td>snacks branded foods</td>\n",
       "      <td>ready to cook eat</td>\n",
       "      <td>https://www.bigbasket.com/media/uploads/p/s/30...</td>\n",
       "    </tr>\n",
       "    <tr>\n",
       "      <th>2</th>\n",
       "      <td>2.0</td>\n",
       "      <td>iD Fresho</td>\n",
       "      <td>Whole Wheat Parota, 350 g + Malabar Parota, 350 g</td>\n",
       "      <td>Combo 2 Items</td>\n",
       "      <td>84.0</td>\n",
       "      <td>160.0</td>\n",
       "      <td>snacks branded foods</td>\n",
       "      <td>ready to cook eat</td>\n",
       "      <td>https://www.bigbasket.com/media/uploads/p/s/12...</td>\n",
       "    </tr>\n",
       "    <tr>\n",
       "      <th>3</th>\n",
       "      <td>3.0</td>\n",
       "      <td>iD</td>\n",
       "      <td>Wheat Chapati</td>\n",
       "      <td>350 g</td>\n",
       "      <td>70.0</td>\n",
       "      <td>70.0</td>\n",
       "      <td>snacks branded foods</td>\n",
       "      <td>ready to cook eat</td>\n",
       "      <td>https://www.bigbasket.com/media/uploads/p/s/30...</td>\n",
       "    </tr>\n",
       "    <tr>\n",
       "      <th>4</th>\n",
       "      <td>4.0</td>\n",
       "      <td>MTR</td>\n",
       "      <td>Breakfast Mix - Khaman Dhokla</td>\n",
       "      <td>160 g Pouch</td>\n",
       "      <td>57.0</td>\n",
       "      <td>60.0</td>\n",
       "      <td>snacks branded foods</td>\n",
       "      <td>ready to cook eat</td>\n",
       "      <td>https://www.bigbasket.com/media/uploads/p/s/40...</td>\n",
       "    </tr>\n",
       "  </tbody>\n",
       "</table>\n",
       "</div>"
      ],
      "text/plain": [
       "   Unnamed: 0      Brand                                            Product  \\\n",
       "0         0.0  iD Fresho     Idly Dosa Batter, 1 Kg + Malabar Parota, 350 g   \n",
       "1         1.0  iD Fresho                             Malabar Parota/Paratha   \n",
       "2         2.0  iD Fresho  Whole Wheat Parota, 350 g + Malabar Parota, 350 g   \n",
       "3         3.0         iD                                      Wheat Chapati   \n",
       "4         4.0        MTR                      Breakfast Mix - Khaman Dhokla   \n",
       "\n",
       "        Quantity  Price    MRP              Category       Sub-Category  \\\n",
       "0  Combo 2 Items  116.0  155.0  snacks branded foods  ready to cook eat   \n",
       "1   350 g Pouch    42.0   80.0  snacks branded foods  ready to cook eat   \n",
       "2  Combo 2 Items   84.0  160.0  snacks branded foods  ready to cook eat   \n",
       "3         350 g    70.0   70.0  snacks branded foods  ready to cook eat   \n",
       "4    160 g Pouch   57.0   60.0  snacks branded foods  ready to cook eat   \n",
       "\n",
       "                                         image_small  \n",
       "0  https://www.bigbasket.com/media/uploads/p/s/12...  \n",
       "1  https://www.bigbasket.com/media/uploads/p/s/30...  \n",
       "2  https://www.bigbasket.com/media/uploads/p/s/12...  \n",
       "3  https://www.bigbasket.com/media/uploads/p/s/30...  \n",
       "4  https://www.bigbasket.com/media/uploads/p/s/40...  "
      ]
     },
     "execution_count": 5,
     "metadata": {},
     "output_type": "execute_result"
    }
   ],
   "source": [
    "# Reading the dataset\n",
    "import pandas as pd\n",
    "import numpy as np\n",
    "\n",
    "inventory_df = pd.read_excel(open(source_data, 'rb'),\n",
    "              sheet_name='Sheet1')  \n",
    "\n",
    "inventory_df.head()"
   ]
  },
  {
   "cell_type": "code",
   "execution_count": 6,
   "id": "2d338e75",
   "metadata": {
    "execution": {
     "iopub.execute_input": "2022-03-15T15:12:09.463158Z",
     "iopub.status.busy": "2022-03-15T15:12:09.463158Z",
     "iopub.status.idle": "2022-03-15T15:12:09.491566Z",
     "shell.execute_reply": "2022-03-15T15:12:09.491566Z"
    },
    "papermill": {
     "duration": 0.046646,
     "end_time": "2022-03-15T15:12:09.493390",
     "exception": false,
     "start_time": "2022-03-15T15:12:09.446744",
     "status": "completed"
    },
    "tags": []
   },
   "outputs": [
    {
     "name": "stdout",
     "output_type": "stream",
     "text": [
      "Shape before deleting duplicate values: (18382, 9)\n",
      "Shape After deleting duplicate values: (18382, 9)\n"
     ]
    },
    {
     "data": {
      "text/html": [
       "<div>\n",
       "<style scoped>\n",
       "    .dataframe tbody tr th:only-of-type {\n",
       "        vertical-align: middle;\n",
       "    }\n",
       "\n",
       "    .dataframe tbody tr th {\n",
       "        vertical-align: top;\n",
       "    }\n",
       "\n",
       "    .dataframe thead th {\n",
       "        text-align: right;\n",
       "    }\n",
       "</style>\n",
       "<table border=\"1\" class=\"dataframe\">\n",
       "  <thead>\n",
       "    <tr style=\"text-align: right;\">\n",
       "      <th></th>\n",
       "      <th>Unnamed: 0</th>\n",
       "      <th>Brand</th>\n",
       "      <th>Product</th>\n",
       "      <th>Quantity</th>\n",
       "      <th>Price</th>\n",
       "      <th>MRP</th>\n",
       "      <th>Category</th>\n",
       "      <th>Sub-Category</th>\n",
       "      <th>image_small</th>\n",
       "    </tr>\n",
       "  </thead>\n",
       "  <tbody>\n",
       "    <tr>\n",
       "      <th>7161</th>\n",
       "      <td>7161.0</td>\n",
       "      <td>Fresho</td>\n",
       "      <td>Sapota - Organically Grown</td>\n",
       "      <td>500 g</td>\n",
       "      <td>35.00</td>\n",
       "      <td>43.75</td>\n",
       "      <td>fruits vegetables</td>\n",
       "      <td>fresh fruits</td>\n",
       "      <td>https://www.bigbasket.com/media/uploads/p/s/40...</td>\n",
       "    </tr>\n",
       "    <tr>\n",
       "      <th>15874</th>\n",
       "      <td>15874.0</td>\n",
       "      <td>Dabur</td>\n",
       "      <td>Hommade - Kalonji Tamatar Ki Chutney</td>\n",
       "      <td>200 gm</td>\n",
       "      <td>61.75</td>\n",
       "      <td>65.00</td>\n",
       "      <td>snacks branded foods</td>\n",
       "      <td>pickles chutney</td>\n",
       "      <td>https://www.bigbasket.com/media/uploads/p/s/40...</td>\n",
       "    </tr>\n",
       "    <tr>\n",
       "      <th>8861</th>\n",
       "      <td>8861.0</td>\n",
       "      <td>Nutriplate India</td>\n",
       "      <td>Rolled Oats</td>\n",
       "      <td>500 g Pouch</td>\n",
       "      <td>175.00</td>\n",
       "      <td>175.00</td>\n",
       "      <td>gourmet world food</td>\n",
       "      <td>cereals breakfast</td>\n",
       "      <td>https://www.bigbasket.com/media/uploads/p/s/40...</td>\n",
       "    </tr>\n",
       "    <tr>\n",
       "      <th>14451</th>\n",
       "      <td>14451.0</td>\n",
       "      <td>Fresho</td>\n",
       "      <td>Chicken Biryani Cut 1kg  + Chicken Chilli Piec...</td>\n",
       "      <td>Combo 2 Items</td>\n",
       "      <td>488.00</td>\n",
       "      <td>640.00</td>\n",
       "      <td>eggs meat fish</td>\n",
       "      <td>poultry</td>\n",
       "      <td>https://www.bigbasket.com/media/uploads/p/s/12...</td>\n",
       "    </tr>\n",
       "    <tr>\n",
       "      <th>13944</th>\n",
       "      <td>13944.0</td>\n",
       "      <td>BB Home</td>\n",
       "      <td>Steel Atta/Maida/Dough Parat Plate - No. 13</td>\n",
       "      <td>1 pc</td>\n",
       "      <td>229.00</td>\n",
       "      <td>299.00</td>\n",
       "      <td>kitchen garden pets</td>\n",
       "      <td>steel utensils</td>\n",
       "      <td>https://www.bigbasket.com/media/uploads/p/s/40...</td>\n",
       "    </tr>\n",
       "  </tbody>\n",
       "</table>\n",
       "</div>"
      ],
      "text/plain": [
       "       Unnamed: 0             Brand  \\\n",
       "7161       7161.0            Fresho   \n",
       "15874     15874.0             Dabur   \n",
       "8861       8861.0  Nutriplate India   \n",
       "14451     14451.0            Fresho   \n",
       "13944     13944.0           BB Home   \n",
       "\n",
       "                                                 Product       Quantity  \\\n",
       "7161                          Sapota - Organically Grown         500 g    \n",
       "15874               Hommade - Kalonji Tamatar Ki Chutney        200 gm    \n",
       "8861                                         Rolled Oats    500 g Pouch   \n",
       "14451  Chicken Biryani Cut 1kg  + Chicken Chilli Piec...  Combo 2 Items   \n",
       "13944        Steel Atta/Maida/Dough Parat Plate - No. 13          1 pc    \n",
       "\n",
       "        Price     MRP              Category       Sub-Category  \\\n",
       "7161    35.00   43.75     fruits vegetables       fresh fruits   \n",
       "15874   61.75   65.00  snacks branded foods    pickles chutney   \n",
       "8861   175.00  175.00    gourmet world food  cereals breakfast   \n",
       "14451  488.00  640.00        eggs meat fish            poultry   \n",
       "13944  229.00  299.00   kitchen garden pets     steel utensils   \n",
       "\n",
       "                                             image_small  \n",
       "7161   https://www.bigbasket.com/media/uploads/p/s/40...  \n",
       "15874  https://www.bigbasket.com/media/uploads/p/s/40...  \n",
       "8861   https://www.bigbasket.com/media/uploads/p/s/40...  \n",
       "14451  https://www.bigbasket.com/media/uploads/p/s/12...  \n",
       "13944  https://www.bigbasket.com/media/uploads/p/s/40...  "
      ]
     },
     "execution_count": 6,
     "metadata": {},
     "output_type": "execute_result"
    }
   ],
   "source": [
    "print('Shape before deleting duplicate values:', inventory_df.shape)\n",
    "\n",
    "# Removing duplicate rows if any\n",
    "inventory_df = inventory_df.drop_duplicates()\n",
    "print('Shape After deleting duplicate values:', inventory_df.shape)\n",
    "\n",
    "# Printing sample data\n",
    "inventory_df.sample(5)"
   ]
  },
  {
   "cell_type": "markdown",
   "id": "b9f46529",
   "metadata": {
    "papermill": {
     "duration": 0.016974,
     "end_time": "2022-03-15T15:12:09.518711",
     "exception": false,
     "start_time": "2022-03-15T15:12:09.501737",
     "status": "completed"
    },
    "tags": []
   },
   "source": [
    "# Defining the problem statement"
   ]
  },
  {
   "cell_type": "markdown",
   "id": "f3a8ddd9",
   "metadata": {
    "papermill": {
     "duration": 0.015917,
     "end_time": "2022-03-15T15:12:09.546552",
     "exception": false,
     "start_time": "2022-03-15T15:12:09.530635",
     "status": "completed"
    },
    "tags": []
   },
   "source": [
    "#### Create a predictive model which gives relevant products recommendations\n",
    "\n",
    "Predictors: Category, Sub Category, Brand Name, Product Rating, Name"
   ]
  },
  {
   "cell_type": "markdown",
   "id": "b07433c8",
   "metadata": {
    "papermill": {
     "duration": 0.016022,
     "end_time": "2022-03-15T15:12:09.570640",
     "exception": false,
     "start_time": "2022-03-15T15:12:09.554618",
     "status": "completed"
    },
    "tags": []
   },
   "source": [
    "# Basic Data Exploration"
   ]
  },
  {
   "cell_type": "code",
   "execution_count": 7,
   "id": "4ff9b943",
   "metadata": {
    "execution": {
     "iopub.execute_input": "2022-03-15T15:12:09.601755Z",
     "iopub.status.busy": "2022-03-15T15:12:09.601755Z",
     "iopub.status.idle": "2022-03-15T15:12:09.621818Z",
     "shell.execute_reply": "2022-03-15T15:12:09.621818Z"
    },
    "papermill": {
     "duration": 0.040943,
     "end_time": "2022-03-15T15:12:09.622845",
     "exception": false,
     "start_time": "2022-03-15T15:12:09.581902",
     "status": "completed"
    },
    "tags": []
   },
   "outputs": [
    {
     "data": {
      "text/html": [
       "<div>\n",
       "<style scoped>\n",
       "    .dataframe tbody tr th:only-of-type {\n",
       "        vertical-align: middle;\n",
       "    }\n",
       "\n",
       "    .dataframe tbody tr th {\n",
       "        vertical-align: top;\n",
       "    }\n",
       "\n",
       "    .dataframe thead th {\n",
       "        text-align: right;\n",
       "    }\n",
       "</style>\n",
       "<table border=\"1\" class=\"dataframe\">\n",
       "  <thead>\n",
       "    <tr style=\"text-align: right;\">\n",
       "      <th></th>\n",
       "      <th>Unnamed: 0</th>\n",
       "      <th>Brand</th>\n",
       "      <th>Product</th>\n",
       "      <th>Quantity</th>\n",
       "      <th>Price</th>\n",
       "      <th>MRP</th>\n",
       "      <th>Category</th>\n",
       "      <th>Sub-Category</th>\n",
       "      <th>image_small</th>\n",
       "    </tr>\n",
       "  </thead>\n",
       "  <tbody>\n",
       "    <tr>\n",
       "      <th>11225</th>\n",
       "      <td>11225.0</td>\n",
       "      <td>Himalaya</td>\n",
       "      <td>Soap - Neem &amp; Turmeric</td>\n",
       "      <td>6x125 g Multipack</td>\n",
       "      <td>219.3</td>\n",
       "      <td>300.0</td>\n",
       "      <td>beauty hygiene</td>\n",
       "      <td>bath face hand wash</td>\n",
       "      <td>https://www.bigbasket.com/media/uploads/p/s/12...</td>\n",
       "    </tr>\n",
       "    <tr>\n",
       "      <th>13677</th>\n",
       "      <td>13677.0</td>\n",
       "      <td>Garnier Men</td>\n",
       "      <td>Power White Anti-Pollution Double Action Face ...</td>\n",
       "      <td>50 g</td>\n",
       "      <td>89.1</td>\n",
       "      <td>99.0</td>\n",
       "      <td>beauty hygiene</td>\n",
       "      <td>skin care</td>\n",
       "      <td>https://www.bigbasket.com/media/uploads/p/s/40...</td>\n",
       "    </tr>\n",
       "    <tr>\n",
       "      <th>11085</th>\n",
       "      <td>11085.0</td>\n",
       "      <td>Milky Mist</td>\n",
       "      <td>Shrikhand - Elaichi</td>\n",
       "      <td>100 g Cup</td>\n",
       "      <td>30.0</td>\n",
       "      <td>35.0</td>\n",
       "      <td>bakery cakes dairy</td>\n",
       "      <td>dairy</td>\n",
       "      <td>https://www.bigbasket.com/media/uploads/p/s/40...</td>\n",
       "    </tr>\n",
       "    <tr>\n",
       "      <th>11815</th>\n",
       "      <td>11815.0</td>\n",
       "      <td>Nescafe Gold</td>\n",
       "      <td>Espresso Rich with Velvety Crema</td>\n",
       "      <td>100 g Bottle</td>\n",
       "      <td>999.0</td>\n",
       "      <td>999.0</td>\n",
       "      <td>gourmet world food</td>\n",
       "      <td>drinks beverages</td>\n",
       "      <td>https://www.bigbasket.com/media/uploads/p/s/40...</td>\n",
       "    </tr>\n",
       "    <tr>\n",
       "      <th>14883</th>\n",
       "      <td>14883.0</td>\n",
       "      <td>bb Combo</td>\n",
       "      <td>Sirona Feminine Pain Relief Patches 5pcs+ Veet...</td>\n",
       "      <td>Combo 2 Items</td>\n",
       "      <td>375.2</td>\n",
       "      <td>484.0</td>\n",
       "      <td>beauty hygiene</td>\n",
       "      <td>feminine hygiene</td>\n",
       "      <td>https://www.bigbasket.com/media/uploads/p/s/12...</td>\n",
       "    </tr>\n",
       "  </tbody>\n",
       "</table>\n",
       "</div>"
      ],
      "text/plain": [
       "       Unnamed: 0         Brand  \\\n",
       "11225     11225.0      Himalaya   \n",
       "13677     13677.0   Garnier Men   \n",
       "11085     11085.0    Milky Mist   \n",
       "11815     11815.0  Nescafe Gold   \n",
       "14883     14883.0      bb Combo   \n",
       "\n",
       "                                                 Product            Quantity  \\\n",
       "11225                             Soap - Neem & Turmeric  6x125 g Multipack    \n",
       "13677  Power White Anti-Pollution Double Action Face ...              50 g     \n",
       "11085                                Shrikhand - Elaichi          100 g Cup    \n",
       "11815                   Espresso Rich with Velvety Crema        100 g Bottle   \n",
       "14883  Sirona Feminine Pain Relief Patches 5pcs+ Veet...       Combo 2 Items   \n",
       "\n",
       "       Price    MRP            Category         Sub-Category  \\\n",
       "11225  219.3  300.0      beauty hygiene  bath face hand wash   \n",
       "13677   89.1   99.0      beauty hygiene            skin care   \n",
       "11085   30.0   35.0  bakery cakes dairy                dairy   \n",
       "11815  999.0  999.0  gourmet world food     drinks beverages   \n",
       "14883  375.2  484.0      beauty hygiene     feminine hygiene   \n",
       "\n",
       "                                             image_small  \n",
       "11225  https://www.bigbasket.com/media/uploads/p/s/12...  \n",
       "13677  https://www.bigbasket.com/media/uploads/p/s/40...  \n",
       "11085  https://www.bigbasket.com/media/uploads/p/s/40...  \n",
       "11815  https://www.bigbasket.com/media/uploads/p/s/40...  \n",
       "14883  https://www.bigbasket.com/media/uploads/p/s/12...  "
      ]
     },
     "execution_count": 7,
     "metadata": {},
     "output_type": "execute_result"
    }
   ],
   "source": [
    "# Looking at the sample rows in the data\n",
    "inventory_df.sample(5)"
   ]
  },
  {
   "cell_type": "code",
   "execution_count": 8,
   "id": "1e5ee969",
   "metadata": {
    "execution": {
     "iopub.execute_input": "2022-03-15T15:12:09.646890Z",
     "iopub.status.busy": "2022-03-15T15:12:09.646890Z",
     "iopub.status.idle": "2022-03-15T15:12:09.670974Z",
     "shell.execute_reply": "2022-03-15T15:12:09.670974Z"
    },
    "papermill": {
     "duration": 0.032079,
     "end_time": "2022-03-15T15:12:09.670974",
     "exception": false,
     "start_time": "2022-03-15T15:12:09.638895",
     "status": "completed"
    },
    "tags": []
   },
   "outputs": [
    {
     "name": "stdout",
     "output_type": "stream",
     "text": [
      "<class 'pandas.core.frame.DataFrame'>\n",
      "Int64Index: 18382 entries, 0 to 18381\n",
      "Data columns (total 9 columns):\n",
      " #   Column        Non-Null Count  Dtype  \n",
      "---  ------        --------------  -----  \n",
      " 0   Unnamed: 0    18382 non-null  float64\n",
      " 1   Brand         18381 non-null  object \n",
      " 2   Product       18380 non-null  object \n",
      " 3   Quantity      18382 non-null  object \n",
      " 4   Price         18382 non-null  float64\n",
      " 5   MRP           18382 non-null  float64\n",
      " 6   Category      18382 non-null  object \n",
      " 7   Sub-Category  18382 non-null  object \n",
      " 8   image_small   18382 non-null  object \n",
      "dtypes: float64(3), object(6)\n",
      "memory usage: 1.4+ MB\n"
     ]
    }
   ],
   "source": [
    "# Observing the summarized information of data\n",
    "# Data types, Missing values based on number of non-null values Vs total rows etc.\n",
    "# Remove those variables from data which have too many missing values (Missing Values > 30%)\n",
    "# Remove Qualitative variables which cannot be used in Machine Learning\n",
    "inventory_df.info()"
   ]
  },
  {
   "cell_type": "code",
   "execution_count": 9,
   "id": "6e16d49f",
   "metadata": {
    "execution": {
     "iopub.execute_input": "2022-03-15T15:12:09.701684Z",
     "iopub.status.busy": "2022-03-15T15:12:09.701684Z",
     "iopub.status.idle": "2022-03-15T15:12:09.742501Z",
     "shell.execute_reply": "2022-03-15T15:12:09.742501Z"
    },
    "papermill": {
     "duration": 0.055626,
     "end_time": "2022-03-15T15:12:09.742501",
     "exception": false,
     "start_time": "2022-03-15T15:12:09.686875",
     "status": "completed"
    },
    "tags": []
   },
   "outputs": [
    {
     "data": {
      "text/html": [
       "<div>\n",
       "<style scoped>\n",
       "    .dataframe tbody tr th:only-of-type {\n",
       "        vertical-align: middle;\n",
       "    }\n",
       "\n",
       "    .dataframe tbody tr th {\n",
       "        vertical-align: top;\n",
       "    }\n",
       "\n",
       "    .dataframe thead th {\n",
       "        text-align: right;\n",
       "    }\n",
       "</style>\n",
       "<table border=\"1\" class=\"dataframe\">\n",
       "  <thead>\n",
       "    <tr style=\"text-align: right;\">\n",
       "      <th></th>\n",
       "      <th>Unnamed: 0</th>\n",
       "      <th>Brand</th>\n",
       "      <th>Product</th>\n",
       "      <th>Quantity</th>\n",
       "      <th>Price</th>\n",
       "      <th>MRP</th>\n",
       "      <th>Category</th>\n",
       "      <th>Sub-Category</th>\n",
       "      <th>image_small</th>\n",
       "    </tr>\n",
       "  </thead>\n",
       "  <tbody>\n",
       "    <tr>\n",
       "      <th>count</th>\n",
       "      <td>18382.00000</td>\n",
       "      <td>18381</td>\n",
       "      <td>18380</td>\n",
       "      <td>18382</td>\n",
       "      <td>18382.000000</td>\n",
       "      <td>18382.000000</td>\n",
       "      <td>18382</td>\n",
       "      <td>18382</td>\n",
       "      <td>18382</td>\n",
       "    </tr>\n",
       "    <tr>\n",
       "      <th>unique</th>\n",
       "      <td>NaN</td>\n",
       "      <td>1541</td>\n",
       "      <td>11439</td>\n",
       "      <td>2952</td>\n",
       "      <td>NaN</td>\n",
       "      <td>NaN</td>\n",
       "      <td>11</td>\n",
       "      <td>96</td>\n",
       "      <td>12484</td>\n",
       "    </tr>\n",
       "    <tr>\n",
       "      <th>top</th>\n",
       "      <td>NaN</td>\n",
       "      <td>Fresho</td>\n",
       "      <td>Soft Drink</td>\n",
       "      <td>1 pc</td>\n",
       "      <td>NaN</td>\n",
       "      <td>NaN</td>\n",
       "      <td>gourmet world food</td>\n",
       "      <td>spreads sauces ketchup</td>\n",
       "      <td>https://www.bbassets.com/static/images/product...</td>\n",
       "    </tr>\n",
       "    <tr>\n",
       "      <th>freq</th>\n",
       "      <td>NaN</td>\n",
       "      <td>1288</td>\n",
       "      <td>23</td>\n",
       "      <td>1227</td>\n",
       "      <td>NaN</td>\n",
       "      <td>NaN</td>\n",
       "      <td>2655</td>\n",
       "      <td>432</td>\n",
       "      <td>17</td>\n",
       "    </tr>\n",
       "    <tr>\n",
       "      <th>mean</th>\n",
       "      <td>9190.50000</td>\n",
       "      <td>NaN</td>\n",
       "      <td>NaN</td>\n",
       "      <td>NaN</td>\n",
       "      <td>279.695053</td>\n",
       "      <td>351.521433</td>\n",
       "      <td>NaN</td>\n",
       "      <td>NaN</td>\n",
       "      <td>NaN</td>\n",
       "    </tr>\n",
       "    <tr>\n",
       "      <th>std</th>\n",
       "      <td>5306.57066</td>\n",
       "      <td>NaN</td>\n",
       "      <td>NaN</td>\n",
       "      <td>NaN</td>\n",
       "      <td>397.128798</td>\n",
       "      <td>520.388793</td>\n",
       "      <td>NaN</td>\n",
       "      <td>NaN</td>\n",
       "      <td>NaN</td>\n",
       "    </tr>\n",
       "    <tr>\n",
       "      <th>min</th>\n",
       "      <td>0.00000</td>\n",
       "      <td>NaN</td>\n",
       "      <td>NaN</td>\n",
       "      <td>NaN</td>\n",
       "      <td>3.000000</td>\n",
       "      <td>3.000000</td>\n",
       "      <td>NaN</td>\n",
       "      <td>NaN</td>\n",
       "      <td>NaN</td>\n",
       "    </tr>\n",
       "    <tr>\n",
       "      <th>25%</th>\n",
       "      <td>4595.25000</td>\n",
       "      <td>NaN</td>\n",
       "      <td>NaN</td>\n",
       "      <td>NaN</td>\n",
       "      <td>82.000000</td>\n",
       "      <td>99.000000</td>\n",
       "      <td>NaN</td>\n",
       "      <td>NaN</td>\n",
       "      <td>NaN</td>\n",
       "    </tr>\n",
       "    <tr>\n",
       "      <th>50%</th>\n",
       "      <td>9190.50000</td>\n",
       "      <td>NaN</td>\n",
       "      <td>NaN</td>\n",
       "      <td>NaN</td>\n",
       "      <td>169.000000</td>\n",
       "      <td>200.000000</td>\n",
       "      <td>NaN</td>\n",
       "      <td>NaN</td>\n",
       "      <td>NaN</td>\n",
       "    </tr>\n",
       "    <tr>\n",
       "      <th>75%</th>\n",
       "      <td>13785.75000</td>\n",
       "      <td>NaN</td>\n",
       "      <td>NaN</td>\n",
       "      <td>NaN</td>\n",
       "      <td>324.000000</td>\n",
       "      <td>399.000000</td>\n",
       "      <td>NaN</td>\n",
       "      <td>NaN</td>\n",
       "      <td>NaN</td>\n",
       "    </tr>\n",
       "    <tr>\n",
       "      <th>max</th>\n",
       "      <td>18381.00000</td>\n",
       "      <td>NaN</td>\n",
       "      <td>NaN</td>\n",
       "      <td>NaN</td>\n",
       "      <td>12500.000000</td>\n",
       "      <td>12500.000000</td>\n",
       "      <td>NaN</td>\n",
       "      <td>NaN</td>\n",
       "      <td>NaN</td>\n",
       "    </tr>\n",
       "  </tbody>\n",
       "</table>\n",
       "</div>"
      ],
      "text/plain": [
       "         Unnamed: 0   Brand     Product Quantity         Price           MRP  \\\n",
       "count   18382.00000   18381       18380    18382  18382.000000  18382.000000   \n",
       "unique          NaN    1541       11439     2952           NaN           NaN   \n",
       "top             NaN  Fresho  Soft Drink    1 pc            NaN           NaN   \n",
       "freq            NaN    1288          23     1227           NaN           NaN   \n",
       "mean     9190.50000     NaN         NaN      NaN    279.695053    351.521433   \n",
       "std      5306.57066     NaN         NaN      NaN    397.128798    520.388793   \n",
       "min         0.00000     NaN         NaN      NaN      3.000000      3.000000   \n",
       "25%      4595.25000     NaN         NaN      NaN     82.000000     99.000000   \n",
       "50%      9190.50000     NaN         NaN      NaN    169.000000    200.000000   \n",
       "75%     13785.75000     NaN         NaN      NaN    324.000000    399.000000   \n",
       "max     18381.00000     NaN         NaN      NaN  12500.000000  12500.000000   \n",
       "\n",
       "                  Category            Sub-Category  \\\n",
       "count                18382                   18382   \n",
       "unique                  11                      96   \n",
       "top     gourmet world food  spreads sauces ketchup   \n",
       "freq                  2655                     432   \n",
       "mean                   NaN                     NaN   \n",
       "std                    NaN                     NaN   \n",
       "min                    NaN                     NaN   \n",
       "25%                    NaN                     NaN   \n",
       "50%                    NaN                     NaN   \n",
       "75%                    NaN                     NaN   \n",
       "max                    NaN                     NaN   \n",
       "\n",
       "                                              image_small  \n",
       "count                                               18382  \n",
       "unique                                              12484  \n",
       "top     https://www.bbassets.com/static/images/product...  \n",
       "freq                                                   17  \n",
       "mean                                                  NaN  \n",
       "std                                                   NaN  \n",
       "min                                                   NaN  \n",
       "25%                                                   NaN  \n",
       "50%                                                   NaN  \n",
       "75%                                                   NaN  \n",
       "max                                                   NaN  "
      ]
     },
     "execution_count": 9,
     "metadata": {},
     "output_type": "execute_result"
    }
   ],
   "source": [
    "# Looking at the descriptive statistics of the data\n",
    "inventory_df.describe(include='all')"
   ]
  },
  {
   "cell_type": "code",
   "execution_count": 10,
   "id": "2b0b1d03",
   "metadata": {
    "execution": {
     "iopub.execute_input": "2022-03-15T15:12:09.771486Z",
     "iopub.status.busy": "2022-03-15T15:12:09.771486Z",
     "iopub.status.idle": "2022-03-15T15:12:09.799259Z",
     "shell.execute_reply": "2022-03-15T15:12:09.799259Z"
    },
    "papermill": {
     "duration": 0.050819,
     "end_time": "2022-03-15T15:12:09.801765",
     "exception": false,
     "start_time": "2022-03-15T15:12:09.750946",
     "status": "completed"
    },
    "tags": []
   },
   "outputs": [
    {
     "data": {
      "text/plain": [
       "Unnamed: 0      18382\n",
       "Brand            1541\n",
       "Product         11439\n",
       "Quantity         2952\n",
       "Price            2522\n",
       "MRP              1124\n",
       "Category           11\n",
       "Sub-Category       96\n",
       "image_small     12484\n",
       "dtype: int64"
      ]
     },
     "execution_count": 10,
     "metadata": {},
     "output_type": "execute_result"
    }
   ],
   "source": [
    "# Finding unique values for each column\n",
    "# TO understand which column is categorical and which one is Continuous\n",
    "# Typically if the numer of unique values are < 20 then the variable is likely to be a category otherwise continuous\n",
    "inventory_df.nunique()"
   ]
  },
  {
   "cell_type": "markdown",
   "id": "7b919fa4",
   "metadata": {
    "papermill": {
     "duration": 0.017201,
     "end_time": "2022-03-15T15:12:09.832278",
     "exception": false,
     "start_time": "2022-03-15T15:12:09.815077",
     "status": "completed"
    },
    "tags": []
   },
   "source": [
    "# Basic Data Exploration Results\n",
    "\n",
    "Based on the basic exploration above, we can create a simple report of the data, noting down the observations regaring each column. Hence, creating a initial roadmap for further analysis.\n",
    "\n",
    "The selected columns in this step are not final, further study will be done and then a final list will be created.\n",
    "\n",
    "- Category     : Selected. Categorical.\n",
    "- Sub Category : Selected. Categorical.\n",
    "- Brand Name   : Selected. Categorical.\n",
    "- Product Name: Selected. Categorical.\n",
    "- Name         : Selected. Categorical.\n",
    "- Weight       : Selected. Continuous.\n",
    "- MRP/Unit     : Selected. Continuous.\n",
    "- Qnty         : Selected. Continuous.\n",
    "- Unit Qnty    : Selected. Continuous.\n",
    "- Cost Price   : Selected. Continuous.\n",
    "- Product ID   : Selected. Continuous.\n",
    "- Product rating : Selected. Continuous."
   ]
  },
  {
   "cell_type": "markdown",
   "id": "f8059b49",
   "metadata": {
    "papermill": {
     "duration": 0.017301,
     "end_time": "2022-03-15T15:12:09.858653",
     "exception": false,
     "start_time": "2022-03-15T15:12:09.841352",
     "status": "completed"
    },
    "tags": []
   },
   "source": [
    "# Visual Exploratory Data Analysis\n",
    "\n",
    "Categorical variables: Bar plot\n",
    "\n",
    "Continuous variables: Histogram"
   ]
  },
  {
   "cell_type": "markdown",
   "id": "9133d697",
   "metadata": {
    "papermill": {
     "duration": 0.01341,
     "end_time": "2022-03-15T15:12:09.891361",
     "exception": false,
     "start_time": "2022-03-15T15:12:09.877951",
     "status": "completed"
    },
    "tags": []
   },
   "source": [
    "## Visualize distribution of all the Categorical Predictor variables in the data using bar plots\n",
    "We can spot a categorical variable in the data by looking at the unique values in them. Typically a categorical variable contains less than 20 Unique values AND there is repetition of values, which means the data can be grouped by those unique values."
   ]
  },
  {
   "cell_type": "code",
   "execution_count": 11,
   "id": "85972f4b",
   "metadata": {
    "execution": {
     "iopub.execute_input": "2022-03-15T15:12:09.921755Z",
     "iopub.status.busy": "2022-03-15T15:12:09.921755Z",
     "iopub.status.idle": "2022-03-15T15:12:09.939201Z",
     "shell.execute_reply": "2022-03-15T15:12:09.939201Z"
    },
    "papermill": {
     "duration": 0.033508,
     "end_time": "2022-03-15T15:12:09.939201",
     "exception": false,
     "start_time": "2022-03-15T15:12:09.905693",
     "status": "completed"
    },
    "tags": []
   },
   "outputs": [],
   "source": [
    "# Plotting multiple bar charts at once for categorical variables\n",
    "# Since there is no default function which can plot bar charts for multiple columns at once\n",
    "# we are defining our own function for the same\n",
    "\n",
    "def PlotBarCharts(inpData, colsToPlot):\n",
    "    %matplotlib inline\n",
    "    \n",
    "    import matplotlib.pyplot as plt\n",
    "    \n",
    "    # Generating multiple subplots\n",
    "    fig, subPlot=plt.subplots(nrows=1, ncols=len(colsToPlot), figsize=(50,5))\n",
    "    fig.suptitle('Bar charts of: '+ str(colsToPlot))\n",
    "\n",
    "    for colName, plotNumber in zip(colsToPlot, range(len(colsToPlot))):\n",
    "        inpData.groupby(colName).size().plot(kind='bar',ax=subPlot[plotNumber])"
   ]
  },
  {
   "cell_type": "markdown",
   "id": "3ceaa62d",
   "metadata": {
    "tags": [
     "papermill-error-cell-tag"
    ]
   },
   "source": [
    "<span id=\"papermill-error-cell\" style=\"color:red; font-family:Helvetica Neue, Helvetica, Arial, sans-serif; font-size:2em;\">Execution using papermill encountered an exception here and stopped:</span>"
   ]
  },
  {
   "cell_type": "code",
   "execution_count": 12,
   "id": "7c4dc8a7",
   "metadata": {
    "execution": {
     "iopub.execute_input": "2022-03-15T15:12:09.971082Z",
     "iopub.status.busy": "2022-03-15T15:12:09.971082Z",
     "iopub.status.idle": "2022-03-15T15:12:11.963752Z",
     "shell.execute_reply": "2022-03-15T15:12:11.963752Z"
    },
    "papermill": {
     "duration": 2.008591,
     "end_time": "2022-03-15T15:12:11.963752",
     "exception": true,
     "start_time": "2022-03-15T15:12:09.955161",
     "status": "failed"
    },
    "tags": []
   },
   "outputs": [
    {
     "ename": "KeyError",
     "evalue": "'Sub Category'",
     "output_type": "error",
     "traceback": [
      "\u001b[1;31m---------------------------------------------------------------------------\u001b[0m",
      "\u001b[1;31mKeyError\u001b[0m                                  Traceback (most recent call last)",
      "Input \u001b[1;32mIn [12]\u001b[0m, in \u001b[0;36m<cell line: 3>\u001b[1;34m()\u001b[0m\n\u001b[0;32m      1\u001b[0m \u001b[38;5;66;03m#####################################################################\u001b[39;00m\n\u001b[0;32m      2\u001b[0m \u001b[38;5;66;03m# Calling the function for 5 columns\u001b[39;00m\n\u001b[1;32m----> 3\u001b[0m \u001b[43mPlotBarCharts\u001b[49m\u001b[43m(\u001b[49m\u001b[43minpData\u001b[49m\u001b[38;5;241;43m=\u001b[39;49m\u001b[43minventory_df\u001b[49m\u001b[43m,\u001b[49m\u001b[43m \u001b[49m\n\u001b[0;32m      4\u001b[0m \u001b[43m              \u001b[49m\u001b[43mcolsToPlot\u001b[49m\u001b[38;5;241;43m=\u001b[39;49m\u001b[43m[\u001b[49m\u001b[38;5;124;43m'\u001b[39;49m\u001b[38;5;124;43mCategory\u001b[39;49m\u001b[38;5;124;43m'\u001b[39;49m\u001b[43m,\u001b[49m\u001b[43m \u001b[49m\u001b[38;5;124;43m'\u001b[39;49m\u001b[38;5;124;43mSub Category\u001b[39;49m\u001b[38;5;124;43m'\u001b[39;49m\u001b[43m]\u001b[49m\u001b[43m)\u001b[49m\n",
      "Input \u001b[1;32mIn [11]\u001b[0m, in \u001b[0;36mPlotBarCharts\u001b[1;34m(inpData, colsToPlot)\u001b[0m\n\u001b[0;32m     12\u001b[0m fig\u001b[38;5;241m.\u001b[39msuptitle(\u001b[38;5;124m'\u001b[39m\u001b[38;5;124mBar charts of: \u001b[39m\u001b[38;5;124m'\u001b[39m\u001b[38;5;241m+\u001b[39m \u001b[38;5;28mstr\u001b[39m(colsToPlot))\n\u001b[0;32m     14\u001b[0m \u001b[38;5;28;01mfor\u001b[39;00m colName, plotNumber \u001b[38;5;129;01min\u001b[39;00m \u001b[38;5;28mzip\u001b[39m(colsToPlot, \u001b[38;5;28mrange\u001b[39m(\u001b[38;5;28mlen\u001b[39m(colsToPlot))):\n\u001b[1;32m---> 15\u001b[0m     \u001b[43minpData\u001b[49m\u001b[38;5;241;43m.\u001b[39;49m\u001b[43mgroupby\u001b[49m\u001b[43m(\u001b[49m\u001b[43mcolName\u001b[49m\u001b[43m)\u001b[49m\u001b[38;5;241m.\u001b[39msize()\u001b[38;5;241m.\u001b[39mplot(kind\u001b[38;5;241m=\u001b[39m\u001b[38;5;124m'\u001b[39m\u001b[38;5;124mbar\u001b[39m\u001b[38;5;124m'\u001b[39m,ax\u001b[38;5;241m=\u001b[39msubPlot[plotNumber])\n",
      "File \u001b[1;32m~\\.virtualenvs\\Sandbox-JMcEg09P\\lib\\site-packages\\pandas\\core\\frame.py:7706\u001b[0m, in \u001b[0;36mDataFrame.groupby\u001b[1;34m(self, by, axis, level, as_index, sort, group_keys, squeeze, observed, dropna)\u001b[0m\n\u001b[0;32m   7701\u001b[0m axis \u001b[38;5;241m=\u001b[39m \u001b[38;5;28mself\u001b[39m\u001b[38;5;241m.\u001b[39m_get_axis_number(axis)\n\u001b[0;32m   7703\u001b[0m \u001b[38;5;66;03m# https://github.com/python/mypy/issues/7642\u001b[39;00m\n\u001b[0;32m   7704\u001b[0m \u001b[38;5;66;03m# error: Argument \"squeeze\" to \"DataFrameGroupBy\" has incompatible type\u001b[39;00m\n\u001b[0;32m   7705\u001b[0m \u001b[38;5;66;03m# \"Union[bool, NoDefault]\"; expected \"bool\"\u001b[39;00m\n\u001b[1;32m-> 7706\u001b[0m \u001b[38;5;28;01mreturn\u001b[39;00m \u001b[43mDataFrameGroupBy\u001b[49m\u001b[43m(\u001b[49m\n\u001b[0;32m   7707\u001b[0m \u001b[43m    \u001b[49m\u001b[43mobj\u001b[49m\u001b[38;5;241;43m=\u001b[39;49m\u001b[38;5;28;43mself\u001b[39;49m\u001b[43m,\u001b[49m\n\u001b[0;32m   7708\u001b[0m \u001b[43m    \u001b[49m\u001b[43mkeys\u001b[49m\u001b[38;5;241;43m=\u001b[39;49m\u001b[43mby\u001b[49m\u001b[43m,\u001b[49m\n\u001b[0;32m   7709\u001b[0m \u001b[43m    \u001b[49m\u001b[43maxis\u001b[49m\u001b[38;5;241;43m=\u001b[39;49m\u001b[43maxis\u001b[49m\u001b[43m,\u001b[49m\n\u001b[0;32m   7710\u001b[0m \u001b[43m    \u001b[49m\u001b[43mlevel\u001b[49m\u001b[38;5;241;43m=\u001b[39;49m\u001b[43mlevel\u001b[49m\u001b[43m,\u001b[49m\n\u001b[0;32m   7711\u001b[0m \u001b[43m    \u001b[49m\u001b[43mas_index\u001b[49m\u001b[38;5;241;43m=\u001b[39;49m\u001b[43mas_index\u001b[49m\u001b[43m,\u001b[49m\n\u001b[0;32m   7712\u001b[0m \u001b[43m    \u001b[49m\u001b[43msort\u001b[49m\u001b[38;5;241;43m=\u001b[39;49m\u001b[43msort\u001b[49m\u001b[43m,\u001b[49m\n\u001b[0;32m   7713\u001b[0m \u001b[43m    \u001b[49m\u001b[43mgroup_keys\u001b[49m\u001b[38;5;241;43m=\u001b[39;49m\u001b[43mgroup_keys\u001b[49m\u001b[43m,\u001b[49m\n\u001b[0;32m   7714\u001b[0m \u001b[43m    \u001b[49m\u001b[43msqueeze\u001b[49m\u001b[38;5;241;43m=\u001b[39;49m\u001b[43msqueeze\u001b[49m\u001b[43m,\u001b[49m\u001b[43m  \u001b[49m\u001b[38;5;66;43;03m# type: ignore[arg-type]\u001b[39;49;00m\n\u001b[0;32m   7715\u001b[0m \u001b[43m    \u001b[49m\u001b[43mobserved\u001b[49m\u001b[38;5;241;43m=\u001b[39;49m\u001b[43mobserved\u001b[49m\u001b[43m,\u001b[49m\n\u001b[0;32m   7716\u001b[0m \u001b[43m    \u001b[49m\u001b[43mdropna\u001b[49m\u001b[38;5;241;43m=\u001b[39;49m\u001b[43mdropna\u001b[49m\u001b[43m,\u001b[49m\n\u001b[0;32m   7717\u001b[0m \u001b[43m\u001b[49m\u001b[43m)\u001b[49m\n",
      "File \u001b[1;32m~\\.virtualenvs\\Sandbox-JMcEg09P\\lib\\site-packages\\pandas\\core\\groupby\\groupby.py:882\u001b[0m, in \u001b[0;36mGroupBy.__init__\u001b[1;34m(self, obj, keys, axis, level, grouper, exclusions, selection, as_index, sort, group_keys, squeeze, observed, mutated, dropna)\u001b[0m\n\u001b[0;32m    879\u001b[0m \u001b[38;5;28;01mif\u001b[39;00m grouper \u001b[38;5;129;01mis\u001b[39;00m \u001b[38;5;28;01mNone\u001b[39;00m:\n\u001b[0;32m    880\u001b[0m     \u001b[38;5;28;01mfrom\u001b[39;00m \u001b[38;5;21;01mpandas\u001b[39;00m\u001b[38;5;21;01m.\u001b[39;00m\u001b[38;5;21;01mcore\u001b[39;00m\u001b[38;5;21;01m.\u001b[39;00m\u001b[38;5;21;01mgroupby\u001b[39;00m\u001b[38;5;21;01m.\u001b[39;00m\u001b[38;5;21;01mgrouper\u001b[39;00m \u001b[38;5;28;01mimport\u001b[39;00m get_grouper\n\u001b[1;32m--> 882\u001b[0m     grouper, exclusions, obj \u001b[38;5;241m=\u001b[39m \u001b[43mget_grouper\u001b[49m\u001b[43m(\u001b[49m\n\u001b[0;32m    883\u001b[0m \u001b[43m        \u001b[49m\u001b[43mobj\u001b[49m\u001b[43m,\u001b[49m\n\u001b[0;32m    884\u001b[0m \u001b[43m        \u001b[49m\u001b[43mkeys\u001b[49m\u001b[43m,\u001b[49m\n\u001b[0;32m    885\u001b[0m \u001b[43m        \u001b[49m\u001b[43maxis\u001b[49m\u001b[38;5;241;43m=\u001b[39;49m\u001b[43maxis\u001b[49m\u001b[43m,\u001b[49m\n\u001b[0;32m    886\u001b[0m \u001b[43m        \u001b[49m\u001b[43mlevel\u001b[49m\u001b[38;5;241;43m=\u001b[39;49m\u001b[43mlevel\u001b[49m\u001b[43m,\u001b[49m\n\u001b[0;32m    887\u001b[0m \u001b[43m        \u001b[49m\u001b[43msort\u001b[49m\u001b[38;5;241;43m=\u001b[39;49m\u001b[43msort\u001b[49m\u001b[43m,\u001b[49m\n\u001b[0;32m    888\u001b[0m \u001b[43m        \u001b[49m\u001b[43mobserved\u001b[49m\u001b[38;5;241;43m=\u001b[39;49m\u001b[43mobserved\u001b[49m\u001b[43m,\u001b[49m\n\u001b[0;32m    889\u001b[0m \u001b[43m        \u001b[49m\u001b[43mmutated\u001b[49m\u001b[38;5;241;43m=\u001b[39;49m\u001b[38;5;28;43mself\u001b[39;49m\u001b[38;5;241;43m.\u001b[39;49m\u001b[43mmutated\u001b[49m\u001b[43m,\u001b[49m\n\u001b[0;32m    890\u001b[0m \u001b[43m        \u001b[49m\u001b[43mdropna\u001b[49m\u001b[38;5;241;43m=\u001b[39;49m\u001b[38;5;28;43mself\u001b[39;49m\u001b[38;5;241;43m.\u001b[39;49m\u001b[43mdropna\u001b[49m\u001b[43m,\u001b[49m\n\u001b[0;32m    891\u001b[0m \u001b[43m    \u001b[49m\u001b[43m)\u001b[49m\n\u001b[0;32m    893\u001b[0m \u001b[38;5;28mself\u001b[39m\u001b[38;5;241m.\u001b[39mobj \u001b[38;5;241m=\u001b[39m obj\n\u001b[0;32m    894\u001b[0m \u001b[38;5;28mself\u001b[39m\u001b[38;5;241m.\u001b[39maxis \u001b[38;5;241m=\u001b[39m obj\u001b[38;5;241m.\u001b[39m_get_axis_number(axis)\n",
      "File \u001b[1;32m~\\.virtualenvs\\Sandbox-JMcEg09P\\lib\\site-packages\\pandas\\core\\groupby\\grouper.py:882\u001b[0m, in \u001b[0;36mget_grouper\u001b[1;34m(obj, key, axis, level, sort, observed, mutated, validate, dropna)\u001b[0m\n\u001b[0;32m    880\u001b[0m         in_axis, level, gpr \u001b[38;5;241m=\u001b[39m \u001b[38;5;28;01mFalse\u001b[39;00m, gpr, \u001b[38;5;28;01mNone\u001b[39;00m\n\u001b[0;32m    881\u001b[0m     \u001b[38;5;28;01melse\u001b[39;00m:\n\u001b[1;32m--> 882\u001b[0m         \u001b[38;5;28;01mraise\u001b[39;00m \u001b[38;5;167;01mKeyError\u001b[39;00m(gpr)\n\u001b[0;32m    883\u001b[0m \u001b[38;5;28;01melif\u001b[39;00m \u001b[38;5;28misinstance\u001b[39m(gpr, Grouper) \u001b[38;5;129;01mand\u001b[39;00m gpr\u001b[38;5;241m.\u001b[39mkey \u001b[38;5;129;01mis\u001b[39;00m \u001b[38;5;129;01mnot\u001b[39;00m \u001b[38;5;28;01mNone\u001b[39;00m:\n\u001b[0;32m    884\u001b[0m     \u001b[38;5;66;03m# Add key to exclusions\u001b[39;00m\n\u001b[0;32m    885\u001b[0m     exclusions\u001b[38;5;241m.\u001b[39madd(gpr\u001b[38;5;241m.\u001b[39mkey)\n",
      "\u001b[1;31mKeyError\u001b[0m: 'Sub Category'"
     ]
    },
    {
     "data": {
      "image/png": "[encoded data removed]",
      "text/plain": [
       "<Figure size 3600x360 with 2 Axes>"
      ]
     },
     "metadata": {
      "needs_background": "light"
     },
     "output_type": "display_data"
    }
   ],
   "source": [
    "#####################################################################\n",
    "# Calling the function for 5 columns\n",
    "PlotBarCharts(inpData=inventory_df, \n",
    "              colsToPlot=['Category', 'Sub Category'])"
   ]
  },
  {
   "cell_type": "code",
   "execution_count": null,
   "id": "aeae6a70",
   "metadata": {
    "papermill": {
     "duration": null,
     "end_time": null,
     "exception": null,
     "start_time": null,
     "status": "pending"
    },
    "tags": []
   },
   "outputs": [],
   "source": [
    "#####################################################################\n",
    "# Calling the function for 5 columns\n",
    "PlotBarCharts(inpData=inventory_df, \n",
    "              colsToPlot=['Brand Name', 'Name '])"
   ]
  },
  {
   "cell_type": "markdown",
   "id": "20e1af62",
   "metadata": {
    "papermill": {
     "duration": null,
     "end_time": null,
     "exception": null,
     "start_time": null,
     "status": "pending"
    },
    "tags": []
   },
   "source": [
    "# Bar Charts Interpretation\n",
    "These bar charts represent the frequencies of each category in the Y-axis and the category names in the X-axis.\n",
    "\n",
    "In this data, all the categorical columns except \"Brand Name\", \"Name\" and \"Product Name\" have satisfactory distribution for machine learning."
   ]
  },
  {
   "cell_type": "markdown",
   "id": "04849368",
   "metadata": {
    "papermill": {
     "duration": null,
     "end_time": null,
     "exception": null,
     "start_time": null,
     "status": "pending"
    },
    "tags": []
   },
   "source": [
    "# Visualize distribution of all the Continuous Predictor variables in the data using histograms"
   ]
  },
  {
   "cell_type": "code",
   "execution_count": null,
   "id": "fe485297",
   "metadata": {
    "papermill": {
     "duration": null,
     "end_time": null,
     "exception": null,
     "start_time": null,
     "status": "pending"
    },
    "tags": []
   },
   "outputs": [],
   "source": [
    "# Plotting histograms of multiple columns together\n",
    "\n",
    "inventory_df.hist(['MRP/Unit', 'Qnty', 'Product Rating'], figsize=(10, 5))"
   ]
  },
  {
   "cell_type": "code",
   "execution_count": null,
   "id": "566993d5",
   "metadata": {
    "papermill": {
     "duration": null,
     "end_time": null,
     "exception": null,
     "start_time": null,
     "status": "pending"
    },
    "tags": []
   },
   "outputs": [],
   "source": [
    "# Plotting histograms of multiple columns together\n",
    "\n",
    "inventory_df.hist(['Unit Qnty', 'Cost Price', 'Product ID'], figsize=(18,10))"
   ]
  },
  {
   "cell_type": "markdown",
   "id": "397c5a3c",
   "metadata": {
    "papermill": {
     "duration": null,
     "end_time": null,
     "exception": null,
     "start_time": null,
     "status": "pending"
    },
    "tags": []
   },
   "source": [
    "# Histogram Interpretation\n",
    "Histograms shows us the data distribution for a single continuous variable.\n",
    "\n",
    "The ideal outcome for histogram is a bell curve or slightly skewed bell curve. If there is too much skewness, then outlier treatment should be done and the column should be re-examined, if that also does not solve the problem then only reject the column.\n",
    "\n",
    "Selected Continuous Variables:\n",
    "\n",
    "- MRP/Unit   : Selected. Slightly skewed distribution, acceptable.\n",
    "- Qnty       : Selected. Slightly skewed distribution, acceptable.\n",
    "- Unit Qnty  : Selected. Skewed distribution, not acceptable.\n",
    "- Cost Price : Selected. Slightly skewed distribution, acceptable.\n"
   ]
  },
  {
   "cell_type": "markdown",
   "id": "a74f7766",
   "metadata": {
    "papermill": {
     "duration": null,
     "end_time": null,
     "exception": null,
     "start_time": null,
     "status": "pending"
    },
    "tags": []
   },
   "source": [
    "# Outlier treatment\n",
    "Outliers are extreme values in the data which are far away from most of the values. You can see them as the tails in the histogram.\n",
    "\n",
    "Outlier must be treated one column at a time. As the treatment will be slightly different for each column.\n",
    "\n",
    "Why I should treat the outliers?\n",
    "\n",
    "Outliers bias the training of machine learning models. As the algorithm tries to fit the extreme value, it goes away from majority of the data.\n",
    "\n",
    "There are below two options to treat outliers in the data.\n",
    "\n",
    "- Option-1: Delete the outlier Records. Only if there are just few rows lost.\n",
    "- Option-2: Impute the outlier values with a logical business value\n",
    "\n",
    "In this data all the continuous variables have slightly skewed distribution, which is acceptable, hence no outlier treatment is required."
   ]
  },
  {
   "cell_type": "markdown",
   "id": "0a75d447",
   "metadata": {
    "papermill": {
     "duration": null,
     "end_time": null,
     "exception": null,
     "start_time": null,
     "status": "pending"
    },
    "tags": []
   },
   "source": [
    "# Missing values treatment\n",
    "Missing values are treated for each column separately.\n",
    "\n",
    "If a column has more than 30% data missing, then missing value treatment cannot be done. That column must be rejected because too much information is missing.\n",
    "\n",
    "There are below options for treating missing values in data.\n",
    "\n",
    "- Delete the missing value rows if there are only few records\n",
    "- Impute the missing values with MEDIAN value for continuous variables\n",
    "- Impute the missing values with MODE value for categorical variables\n",
    "- Interpolate the values based on nearby values\n",
    "- Interpolate the values based on business logic"
   ]
  },
  {
   "cell_type": "code",
   "execution_count": null,
   "id": "291ecafd",
   "metadata": {
    "papermill": {
     "duration": null,
     "end_time": null,
     "exception": null,
     "start_time": null,
     "status": "pending"
    },
    "tags": []
   },
   "outputs": [],
   "source": [
    "# Finding how many missing values are there for each column\n",
    "inventory_df.isnull().sum()"
   ]
  },
  {
   "cell_type": "code",
   "execution_count": null,
   "id": "cff89245",
   "metadata": {
    "papermill": {
     "duration": null,
     "end_time": null,
     "exception": null,
     "start_time": null,
     "status": "pending"
    },
    "tags": []
   },
   "outputs": [],
   "source": [
    "inventory_df.replace('', np.nan, inplace=True)"
   ]
  },
  {
   "cell_type": "code",
   "execution_count": null,
   "id": "275f3122",
   "metadata": {
    "papermill": {
     "duration": null,
     "end_time": null,
     "exception": null,
     "start_time": null,
     "status": "pending"
    },
    "tags": []
   },
   "outputs": [],
   "source": [
    "inventory_df.dropna(inplace=True)\n",
    "\n",
    "# Finding how many missing values are there for each column\n",
    "inventory_df.isnull().sum()"
   ]
  },
  {
   "cell_type": "markdown",
   "id": "ae17ea3b",
   "metadata": {
    "papermill": {
     "duration": null,
     "end_time": null,
     "exception": null,
     "start_time": null,
     "status": "pending"
    },
    "tags": []
   },
   "source": [
    "All the missing values are removed now."
   ]
  },
  {
   "cell_type": "markdown",
   "id": "447c2dea",
   "metadata": {
    "papermill": {
     "duration": null,
     "end_time": null,
     "exception": null,
     "start_time": null,
     "status": "pending"
    },
    "tags": []
   },
   "source": [
    "# Data Cleansing"
   ]
  },
  {
   "cell_type": "code",
   "execution_count": null,
   "id": "27be3585",
   "metadata": {
    "papermill": {
     "duration": null,
     "end_time": null,
     "exception": null,
     "start_time": null,
     "status": "pending"
    },
    "tags": []
   },
   "outputs": [],
   "source": [
    "# Removing the leading and trailing spaces of columns\n",
    "inventory_df.columns = inventory_df.columns.str.strip()"
   ]
  },
  {
   "cell_type": "code",
   "execution_count": null,
   "id": "6d627f1d",
   "metadata": {
    "papermill": {
     "duration": null,
     "end_time": null,
     "exception": null,
     "start_time": null,
     "status": "pending"
    },
    "tags": []
   },
   "outputs": [],
   "source": [
    "inventory_df.columns"
   ]
  },
  {
   "cell_type": "code",
   "execution_count": null,
   "id": "2371c7e2",
   "metadata": {
    "papermill": {
     "duration": null,
     "end_time": null,
     "exception": null,
     "start_time": null,
     "status": "pending"
    },
    "tags": []
   },
   "outputs": [],
   "source": []
  },
  {
   "cell_type": "markdown",
   "id": "72d352c2",
   "metadata": {
    "papermill": {
     "duration": null,
     "end_time": null,
     "exception": null,
     "start_time": null,
     "status": "pending"
    },
    "tags": []
   },
   "source": [
    "# Find Correalation between attributes"
   ]
  },
  {
   "cell_type": "code",
   "execution_count": null,
   "id": "d554982b",
   "metadata": {
    "papermill": {
     "duration": null,
     "end_time": null,
     "exception": null,
     "start_time": null,
     "status": "pending"
    },
    "tags": []
   },
   "outputs": [],
   "source": [
    "# To find the correlation among\n",
    "# the columns using pearson method\n",
    "inventory_df.corr(method ='pearson')"
   ]
  },
  {
   "cell_type": "markdown",
   "id": "bfbfd4f4",
   "metadata": {
    "papermill": {
     "duration": null,
     "end_time": null,
     "exception": null,
     "start_time": null,
     "status": "pending"
    },
    "tags": []
   },
   "source": [
    "# Save the file into local machine"
   ]
  },
  {
   "cell_type": "code",
   "execution_count": null,
   "id": "e2a7deef",
   "metadata": {
    "papermill": {
     "duration": null,
     "end_time": null,
     "exception": null,
     "start_time": null,
     "status": "pending"
    },
    "tags": []
   },
   "outputs": [],
   "source": [
    "inventory_df.to_csv(preprocessed_data)"
   ]
  },
  {
   "cell_type": "code",
   "execution_count": null,
   "id": "b9f62db6-8039-4360-bb96-2f63d7b1c517",
   "metadata": {
    "papermill": {
     "duration": null,
     "end_time": null,
     "exception": null,
     "start_time": null,
     "status": "pending"
    },
    "tags": []
   },
   "outputs": [],
   "source": [
    "# update the batch status  to 2 (Completed Successfully)"
   ]
  }
 ],
 "metadata": {
  "kernelspec": {
   "display_name": "Python 3 (ipykernel)",
   "language": "python",
   "name": "python3"
  },
  "language_info": {
   "codemirror_mode": {
    "name": "ipython",
    "version": 3
   },
   "file_extension": ".py",
   "mimetype": "text/x-python",
   "name": "python",
   "nbconvert_exporter": "python",
   "pygments_lexer": "ipython3",
   "version": "3.10.2"
  },
  "papermill": {
   "default_parameters": {},
   "duration": 9.039948,
   "end_time": "2022-03-15T15:12:12.611825",
   "environment_variables": {},
   "exception": true,
   "input_path": ".//notebooks//input//Grocery_Data_Preprocessing.ipynb",
   "output_path": ".//notebooks//output//1000_15_03_2022__00_00_00_Grocery_Data_Preprocessing.ipynb",
   "parameters": {
    "batch_id": "1000",
    "current_time": "15_03_2022__00_00_00",
    "preprocessed_data": ".//data//processed//1000_15_03_2022__00_00_00_BigBasket.csv",
    "source_data": ".//data//source//BigBasket.xlsx",
    "source_notebook": ".//notebooks//input//Grocery_Data_Preprocessing.ipynb",
    "unprocessed_data": ".//data//unprocessed//1000_15_03_2022__00_00_00_unprocessed_.//data//source//BigBasket.csv"
   },
   "start_time": "2022-03-15T15:12:03.571877",
   "version": "2.3.4"
  }
 },
 "nbformat": 4,
 "nbformat_minor": 5
}